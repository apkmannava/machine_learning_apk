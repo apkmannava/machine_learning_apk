{
  "cells": [
    {
      "cell_type": "markdown",
      "metadata": {
        "colab_type": "text",
        "id": "view-in-github"
      },
      "source": [
        "<a href=\"https://colab.research.google.com/github/apkmannava/machine_learning_apk/blob/main/P2_Digit_Recognition_V1.ipynb\" target=\"_parent\"><img src=\"https://colab.research.google.com/assets/colab-badge.svg\" alt=\"Open In Colab\"/></a>"
      ]
    },
    {
      "cell_type": "markdown",
      "metadata": {
        "id": "YEecfEOX58GL"
      },
      "source": [
        "# import libraries"
      ]
    },
    {
      "cell_type": "code",
      "execution_count": null,
      "metadata": {
        "id": "o1FJxm4WpJGN"
      },
      "outputs": [],
      "source": [
        "import tensorflow as tf\n",
        "from sklearn.svm import LinearSVC\n",
        "from sklearn.metrics import zero_one_loss\n",
        "import math\n",
        "# import numpy as np\n",
        "import pickle, gzip, numpy as np\n",
        "\n",
        "import scipy.sparse as sparse\n",
        "\n",
        "import matplotlib.pyplot as plt\n",
        "import matplotlib.cm as cm\n"
      ]
    },
    {
      "cell_type": "markdown",
      "metadata": {
        "id": "wVOeSZ946AIg"
      },
      "source": [
        "# load data"
      ]
    },
    {
      "cell_type": "code",
      "execution_count": null,
      "metadata": {
        "colab": {
          "base_uri": "https://localhost:8080/"
        },
        "id": "bhdpTpv6_QH-",
        "outputId": "6dd35d81-f2d8-4b7c-ff8c-b26e3f09bf2a"
      },
      "outputs": [
        {
          "name": "stdout",
          "output_type": "stream",
          "text": [
            "Downloading data from https://storage.googleapis.com/tensorflow/tf-keras-datasets/mnist.npz\n",
            "11490434/11490434 [==============================] - 0s 0us/step\n",
            "x_train:(60000, 28, 28),y_train: (60000,)\n",
            "x_test :(10000, 28, 28),y_test : (10000,)\n"
          ]
        }
      ],
      "source": [
        "# Load MNIST data:\n",
        "(x_train, y_train), (x_test, y_test) = tf.keras.datasets.mnist.load_data()\n",
        "\n",
        "x_train = x_train/255.\n",
        "x_test  = x_test/255.\n",
        "\n",
        "print('''x_train:{},y_train: {}\n",
        "x_test :{},y_test : {}'''.format(x_train.shape,y_train.shape,x_test.shape,y_test.shape))"
      ]
    },
    {
      "cell_type": "markdown",
      "metadata": {
        "id": "9bw1BqOW6FX5"
      },
      "source": [
        "# plot data"
      ]
    },
    {
      "cell_type": "code",
      "execution_count": null,
      "metadata": {
        "id": "71uMfhr_SDlL"
      },
      "outputs": [],
      "source": [
        "def plot_images_from_data(train_images,train_labels):\n",
        "    image_rows = 4\n",
        "    image_cols = 5\n",
        "    rand_imag_array = np.random.randint(0,len(train_images),image_rows*image_cols)\n",
        "    plt.figure(figsize=(2*image_rows,1*image_cols))\n",
        "    for i in range(image_rows*image_cols):\n",
        "        plt.subplot(image_rows,image_cols,i+1)\n",
        "        plt.xticks([])\n",
        "        plt.yticks([])\n",
        "        plt.grid(False)\n",
        "        plt.imshow(train_images[i], cmap=plt.cm.binary)\n",
        "        # plt.xlabel(class_names[train_labels[i]],color='blue',backgroundcolor='white')\n",
        "\n",
        "    plt.tight_layout()\n",
        "    plt.show()\n",
        "    return"
      ]
    },
    {
      "cell_type": "code",
      "execution_count": null,
      "metadata": {
        "id": "cBzHVejBPaAE"
      },
      "outputs": [],
      "source": [
        "def plot_images(X):\n",
        "    if X.ndim == 1:\n",
        "        X = np.array([X])\n",
        "    num_images = X.shape[0]\n",
        "    num_rows = math.floor(math.sqrt(num_images))\n",
        "    num_cols = math.ceil(num_images/num_rows)\n",
        "    for i in range(num_images):\n",
        "        reshaped_image = X[i,:].reshape(28,28)\n",
        "        plt.subplot(num_rows, num_cols, i+1)\n",
        "        plt.imshow(reshaped_image, cmap = cm.Greys_r)\n",
        "        plt.axis('off')\n",
        "    plt.show()"
      ]
    },
    {
      "cell_type": "markdown",
      "metadata": {
        "id": "4qkwCle26Kty"
      },
      "source": [
        "# get MNIST data"
      ]
    },
    {
      "cell_type": "code",
      "execution_count": null,
      "metadata": {
        "id": "BOGXdvQg1bD4"
      },
      "outputs": [],
      "source": [
        "def get_MNIST_data():\n",
        "    \"\"\"\n",
        "    Reads mnist dataset from file\n",
        "\n",
        "    Returns:\n",
        "        train_x - 2D Numpy array (n, d) where each row is an image\n",
        "        train_y - 1D Numpy array (n, ) where each row is a label\n",
        "        test_x  - 2D Numpy array (n, d) where each row is an image\n",
        "        test_y  - 1D Numpy array (n, ) where each row is a label\n",
        "\n",
        "    \"\"\"\n",
        "    (train_x, train_y), (test_x, test_y)= tf.keras.datasets.mnist.load_data()\n",
        "    train_x = train_x/255.\n",
        "    test_x  = test_x/255.\n",
        "\n",
        "    # In this code, we start with an original array of size (n, r, c).\n",
        "    # We create a random array with that size using np.random.random.\n",
        "    # To reshape the array, we use the reshape function. The first argument to reshape is the desired shape (n, r*c).\n",
        "    # To determine the second dimension, we use -1,\n",
        "    # which instructs NumPy to automatically determine the appropriate size based on the other dimensions.\n",
        "\n",
        "    train_x = train_x.reshape(train_x.shape[0], -1)\n",
        "    test_x  =  test_x.reshape( test_x.shape[0], -1)\n",
        "\n",
        "    return (train_x, train_y, test_x, test_y)"
      ]
    },
    {
      "cell_type": "markdown",
      "metadata": {
        "id": "ZrJIywYbRv6a"
      },
      "source": [
        "# linear Regression"
      ]
    },
    {
      "cell_type": "markdown",
      "metadata": {
        "id": "Xyj6UbDNAvDT"
      },
      "source": [
        "## Closed Form Solution of LInear Regression\n",
        "\n",
        "$\n",
        "    \\theta = ({X^T}X + {\\lambda}I)^{-1} {{X^T} Y}\n",
        "$\n",
        "\n",
        "## emperical risk for Linear Regression\n",
        "\n",
        "\n",
        "$$\n",
        "    R_n(\\theta)= \\frac{1}{n} \\sum_{i=1}^{n}[{\\frac{({y^{(i)}-\\theta\\bullet x^{(i)}})^2}{2}}]\n",
        "$$\n",
        "\n",
        "$$\n",
        "    \\nabla_{\\theta}({\\frac{(y-\\theta\\bullet x^{(i)})^2}{2}})\n",
        "$$\n",
        "\n",
        "$$\n",
        "    = -(y-\\theta \\bullet x^{(i)})\\bullet x^{(i)}\n",
        "$$\n",
        "\n",
        "$$\n",
        "   = -y\\bullet x^{(i)}+\\theta\\bullet (x^{(i)})^{2}\n",
        "$$\n",
        "\n",
        "equate the above to zero\n",
        "\n",
        "$$\n",
        "    -y\\bullet x^{(i)}+\\theta\\bullet (x^{(i)})^{2}=0\n",
        "$$\n",
        "\n",
        "$$\n",
        "    y\\bullet x^{(i)}=\\theta\\bullet (x^{(i)})^{2}\n",
        "$$\n",
        "\n",
        "$$\n",
        "    \\theta = \\frac{(y\\bullet x^{(i)})}{(x^{(i)})^{2}}\n",
        "$$\n",
        "\n",
        "keeping the above in matrix form  ( and adding  $ \\lambda $ learing rate )\n",
        "\n",
        "$$\n",
        "    \\theta = ({X^T}X + {\\lambda}I)^{-1} {{X^T} Y}\n",
        "$$"
      ]
    },
    {
      "cell_type": "code",
      "execution_count": null,
      "metadata": {
        "id": "FECccLLC_tEN"
      },
      "outputs": [],
      "source": [
        "def closed_form(X, Y, lambda_factor):\n",
        "    \"\"\"\n",
        "    function Definition: gives closed form solution of linear regression with L2 regularization\n",
        "\n",
        "    Args:\n",
        "        X - (n, d + 1) NumPy array (n datapoints each with d features plus the bias feature in the first dimension)\n",
        "        Y - (n, ) NumPy array containing the labels (a number from 0-9) for each\n",
        "            data point\n",
        "        lambda_factor - the regularization constant (scalar)\n",
        "    Returns:\n",
        "        theta - (d + 1, ) NumPy array containing the weights of linear regression. Note that theta[0]\n",
        "        represents the y-axis intercept of the model and therefore X[0] = 1\n",
        "    \"\"\"\n",
        "    theta=np.matmul(X.T,X)\n",
        "    I=np.eye(np.max(tuple(theta.shape)))\n",
        "    theta=theta+(lambda_factor*I)\n",
        "    theta=np.linalg.inv(theta)\n",
        "    theta=np.matmul(theta,X.T)\n",
        "    theta=np.matmul(theta,Y)\n",
        "    return theta"
      ]
    },
    {
      "cell_type": "markdown",
      "metadata": {
        "id": "levKcejL7Wbq"
      },
      "source": [
        "## Test Error on Linear Regression\n",
        "Apply the linear regression model on the test set. For classification purpose, you decide to round the predicted label into numbers 0-9.\n"
      ]
    },
    {
      "cell_type": "code",
      "execution_count": null,
      "metadata": {
        "id": "pqSFBQbNhQ6E"
      },
      "outputs": [],
      "source": [
        "def compute_test_error_linear(test_x, Y, theta):\n",
        "    test_y_predict = np.round(np.dot(test_x, theta))\n",
        "    # print(test_y_predict[:20])\n",
        "\n",
        "    test_y_predict[test_y_predict < 0] = 0\n",
        "    test_y_predict[test_y_predict > 9] = 9\n",
        "\n",
        "    # print(test_y_predict[:20])\n",
        "    return 1 - np.mean(test_y_predict == Y)"
      ]
    },
    {
      "cell_type": "markdown",
      "metadata": {
        "id": "4IE1Z8QHvOnk"
      },
      "source": [
        "\n",
        "## 2. Linear Regression with Closed Form Solution"
      ]
    },
    {
      "cell_type": "code",
      "execution_count": null,
      "metadata": {
        "id": "YhHl5IGBvLjN"
      },
      "outputs": [],
      "source": [
        "# TODO: first fill out functions in linear_regression.py, or the below functions will not work\n",
        "\n",
        "def run_linear_regression_on_MNIST(lambda_factor):\n",
        "    \"\"\"\n",
        "    Trains linear regression, classifies test data, computes test error on test set\n",
        "\n",
        "    Returns:\n",
        "        Final test error\n",
        "    \"\"\"\n",
        "    # Load MNIST data:\n",
        "    (train_x, train_y,test_x, test_y) = get_MNIST_data()\n",
        "\n",
        "\n",
        "    # np.ones([train_x.shape[0], 1]): This creates a 2D NumPy array consisting of ones.\n",
        "    #                                 The number of rows in this array is determined by the shape of train_x,\n",
        "    #                                 specifically train_x.shape[0], and it has only one column.\n",
        "\n",
        "    # np.hstack([np.ones([train_x.shape[0], 1]), train_x]): This horizontally stacks the ones array (bias term)\n",
        "    #                                                     with the train_x array. The hstack function concatenates arrays along\n",
        "    #                                                     the horizontal axis. By doing this, the bias term is added as the first column\n",
        "    #                                                     to each row of train_x.\n",
        "\n",
        "    train_x_bias = np.hstack([np.ones([train_x.shape[0], 1]), train_x])\n",
        "    test_x_bias = np.hstack([np.ones([test_x.shape[0], 1]), test_x])\n",
        "    theta = closed_form(train_x_bias, train_y, lambda_factor)\n",
        "    test_error = compute_test_error_linear(test_x_bias, test_y, theta)\n",
        "    return test_error"
      ]
    },
    {
      "cell_type": "markdown",
      "metadata": {
        "id": "EzZhSmAUFuRL"
      },
      "source": [
        "# Support vector Machine"
      ]
    },
    {
      "cell_type": "markdown",
      "metadata": {
        "id": "UVFmXFXLJJJR"
      },
      "source": [
        "## One Vs. Rest SVM"
      ]
    },
    {
      "cell_type": "code",
      "execution_count": null,
      "metadata": {
        "id": "cef1Pw8fFtbA"
      },
      "outputs": [],
      "source": [
        "def one_vs_rest_svm(train_x, train_y, test_x):\n",
        "    \"\"\"\n",
        "    Trains a linear SVM for binary classifciation\n",
        "\n",
        "    Args:\n",
        "        train_x - (n, d) NumPy array (n datapoints each with d features)\n",
        "        train_y - (n, ) NumPy array containing the labels (0 or 1) for each training data point\n",
        "        test_x - (m, d) NumPy array (m datapoints each with d features)\n",
        "    Returns:\n",
        "        pred_test_y - (m,) NumPy array containing the labels (0 or 1) for each test data point\n",
        "    \"\"\"\n",
        "    clf=LinearSVC(random_state=0,C=0.1,multi_class='ovr')\n",
        "    clf.fit(train_x,train_y)\n",
        "    pred_test_y=clf.predict(test_x)\n",
        "    return pred_test_y"
      ]
    },
    {
      "cell_type": "markdown",
      "metadata": {
        "id": "OZF1vMMQEeo0"
      },
      "source": [
        "## compute_test_error_svm"
      ]
    },
    {
      "cell_type": "code",
      "execution_count": null,
      "metadata": {
        "id": "fL61xTfgEd0d"
      },
      "outputs": [],
      "source": [
        "def compute_test_error_svm(test_y, pred_test_y):\n",
        "    return zero_one_loss(test_y, pred_test_y)"
      ]
    },
    {
      "cell_type": "markdown",
      "metadata": {
        "id": "ang5N8iOCfid"
      },
      "source": [
        "## run_svm_one_vs_rest_on_MNIST"
      ]
    },
    {
      "cell_type": "code",
      "execution_count": null,
      "metadata": {
        "id": "sJO8d1CKCcht"
      },
      "outputs": [],
      "source": [
        "def run_svm_one_vs_rest_on_MNIST():\n",
        "    \"\"\"\n",
        "    Trains svm, classifies test data, computes test error on test set\n",
        "\n",
        "    Returns:\n",
        "        Test error for the binary svm\n",
        "    \"\"\"\n",
        "    train_x, train_y, test_x, test_y = get_MNIST_data()\n",
        "    train_y[train_y != 0] = 1\n",
        "    test_y[test_y != 0] = 1\n",
        "    pred_test_y = one_vs_rest_svm(train_x, train_y, test_x)\n",
        "    test_error = compute_test_error_svm(test_y, pred_test_y)\n",
        "    return test_error"
      ]
    },
    {
      "cell_type": "markdown",
      "metadata": {
        "id": "h86Q897iMv_r"
      },
      "source": [
        "## multi_class_svm"
      ]
    },
    {
      "cell_type": "code",
      "execution_count": null,
      "metadata": {
        "id": "jZut-3cEMvHc"
      },
      "outputs": [],
      "source": [
        "def multi_class_svm(train_x, train_y, test_x):\n",
        "    \"\"\"\n",
        "    Trains a linear SVM for multiclass classifciation using a one-vs-rest strategy\n",
        "\n",
        "    Args:\n",
        "        train_x - (n, d) NumPy array (n datapoints each with d features)\n",
        "        train_y - (n, ) NumPy array containing the labels (int) for each training data point\n",
        "        test_x - (m, d) NumPy array (m datapoints each with d features)\n",
        "    Returns:\n",
        "        pred_test_y - (m,) NumPy array containing the labels (int) for each test data point\n",
        "    \"\"\"\n",
        "    clf=LinearSVC(random_state=0,C=0.1,multi_class='ovr')\n",
        "    clf.fit(train_x,train_y)\n",
        "    pred_test_y=clf.predict(test_x)\n",
        "    return pred_test_y"
      ]
    },
    {
      "cell_type": "markdown",
      "metadata": {
        "id": "_uAbksj_MZlC"
      },
      "source": [
        "## run_multiclass_svm_on_MNIST"
      ]
    },
    {
      "cell_type": "code",
      "execution_count": null,
      "metadata": {
        "id": "jgY2zI3dMZQN"
      },
      "outputs": [],
      "source": [
        "def run_multiclass_svm_on_MNIST():\n",
        "    \"\"\"\n",
        "    Trains svm, classifies test data, computes test error on test set\n",
        "\n",
        "    Returns:\n",
        "        Test error for the binary svm\n",
        "    \"\"\"\n",
        "    train_x, train_y, test_x, test_y = get_MNIST_data()\n",
        "    pred_test_y = multi_class_svm(train_x, train_y, test_x)\n",
        "    test_error = compute_test_error_svm(test_y, pred_test_y)\n",
        "    return test_error"
      ]
    },
    {
      "cell_type": "markdown",
      "metadata": {
        "id": "70Ts5UGAf6Vm"
      },
      "source": [
        "# Softmax"
      ]
    },
    {
      "cell_type": "markdown",
      "metadata": {
        "id": "jYPHImqEg5gi"
      },
      "source": [
        "## augment_feature_vector"
      ]
    },
    {
      "cell_type": "code",
      "execution_count": null,
      "metadata": {
        "id": "n2WQwk11g7HJ"
      },
      "outputs": [],
      "source": [
        "def augment_feature_vector(X):\n",
        "    \"\"\"\n",
        "    Adds the x[i][0] = 1 feature for each data point x[i].\n",
        "\n",
        "    Args:\n",
        "        X - a NumPy matrix of n data points, each with d - 1 features\n",
        "\n",
        "    Returns: X_augment, an (n, d) NumPy array with the added feature for each datapoint\n",
        "    \"\"\"\n",
        "    column_of_ones = np.zeros([len(X), 1]) + 1\n",
        "    return np.hstack((column_of_ones, X))"
      ]
    },
    {
      "cell_type": "markdown",
      "metadata": {
        "id": "xdE4lVLlhs8j"
      },
      "source": [
        "## compute_probabilities"
      ]
    },
    {
      "cell_type": "code",
      "execution_count": null,
      "metadata": {
        "id": "Do2-uBuDhrwR"
      },
      "outputs": [],
      "source": [
        "def compute_probabilities(X, theta, temp_parameter):\n",
        "    \"\"\"\n",
        "    Computes, for each datapoint X[i], the probability that X[i] is labeled as j\n",
        "    for j = 0, 1, ..., k-1\n",
        "\n",
        "    Args:\n",
        "        X - (n, d) NumPy array (n datapoints each with d features)\n",
        "        theta - (k, d) NumPy array, where row j represents the parameters of our model for label j\n",
        "        temp_parameter - the temperature parameter of softmax function (scalar)\n",
        "    Returns:\n",
        "        H - (k, n) NumPy array, where each entry H[j][i] is the probability that X[i] is labeled as j\n",
        "    \"\"\"\n",
        "    #YOUR CODE HERE\n",
        "    H=np.zeros(len(theta)*len(X)).reshape(len(theta),len(X))\n",
        "    sum_1=np.zeros(len(X))\n",
        "    H=np.matmul(theta,X.T)\n",
        "    H=H/temp_parameter\n",
        "    for i in range(len(X)):\n",
        "        H[:,i]=H[:,i]-np.max(H[:,i])\n",
        "\n",
        "    H=np.exp(H)\n",
        "    for i in range(len(X)):\n",
        "        sum_1[i]=np.sum(H[:,i])\n",
        "\n",
        "    H=H/sum_1\n",
        "    return H"
      ]
    },
    {
      "cell_type": "markdown",
      "metadata": {
        "id": "dylT7D2Nhchv"
      },
      "source": [
        "## compute_cost_function"
      ]
    },
    {
      "cell_type": "code",
      "execution_count": null,
      "metadata": {
        "id": "KOsbHk2Rha8q"
      },
      "outputs": [],
      "source": [
        "def compute_cost_function(X, Y, theta, lambda_factor, temp_parameter):\n",
        "    \"\"\"\n",
        "    Computes the total cost over every datapoint.\n",
        "\n",
        "    Args:\n",
        "        X - (n, d) NumPy array (n datapoints each with d features)\n",
        "        Y - (n, ) NumPy array containing the labels (a number from 0-9) for each\n",
        "            data point\n",
        "        theta - (k, d) NumPy array, where row j represents the parameters of our\n",
        "                model for label j\n",
        "        lambda_factor - the regularization constant (scalar)\n",
        "        temp_parameter - the temperature parameter of softmax function (scalar)\n",
        "\n",
        "    Returns\n",
        "        c - the cost value (scalar)\n",
        "    \"\"\"\n",
        "    #YOUR CODE HERE\n",
        "    A=np.clip(compute_probabilities(X,theta,temp_parameter),1e-15, 1-1e-15)\n",
        "    B=np.log(A)\n",
        "\n",
        "    sum1=0\n",
        "    sum_theta=0\n",
        "    n=len(X)\n",
        "    k=len(theta)\n",
        "    d=len(theta)\n",
        "#     M = sparse.coo_matrix(([1]*n, (Y, range(n))), shape=(k,n)).toarray()\n",
        "    need_matrix=sparse.coo_matrix(([1]*n,(Y, range(n))),shape=(k,n)).toarray()\n",
        "\n",
        "    sum_theta=sum_theta+np.sum(theta**2)\n",
        "\n",
        "    sum1=need_matrix*B\n",
        "    sum_theta=theta**2\n",
        "\n",
        "    a=np.sum(sum1)\n",
        "    b=np.sum(sum_theta)\n",
        "\n",
        "    a=a*(-1/len(X))\n",
        "    b=b*(lambda_factor/2)\n",
        "    c=a+b\n",
        "    return c"
      ]
    },
    {
      "cell_type": "markdown",
      "metadata": {
        "id": "Go2anyumi2Tk"
      },
      "source": [
        "## run_gradient_descent_iteration"
      ]
    },
    {
      "cell_type": "code",
      "execution_count": null,
      "metadata": {
        "id": "iD0AJ7V7i1L9"
      },
      "outputs": [],
      "source": [
        "def run_gradient_descent_iteration(X, Y, theta, alpha, lambda_factor, temp_parameter):\n",
        "    \"\"\"\n",
        "    Runs one step of batch gradient descent\n",
        "\n",
        "    Args:\n",
        "        X - (n, d) NumPy array (n datapoints each with d features)\n",
        "        Y - (n, ) NumPy array containing the labels (a number from 0-9) for each\n",
        "            data point\n",
        "        theta - (k, d) NumPy array, where row j represents the parameters of our\n",
        "                model for label j\n",
        "        alpha - the learning rate (scalar)\n",
        "        lambda_factor - the regularization constant (scalar)\n",
        "        temp_parameter - the temperature parameter of softmax function (scalar)\n",
        "\n",
        "    Returns:\n",
        "        theta - (k, d) NumPy array that is the final value of parameters theta\n",
        "    \"\"\"\n",
        "    #YOUR CODE HERE\n",
        "\n",
        "    P=np.clip(compute_probabilities(X,theta,temp_parameter),1e-15, 1-1e-15)\n",
        "    n=len(Y)\n",
        "#    k=len(P)\n",
        "    k=len(theta)\n",
        "    d=len(theta)\n",
        "#    M = sparse.coo_matrix(([1]*n, (Y, range(n))), shape=(k,n)).toarray()\n",
        "#    M = sparse.coo_matrix(([1]*n, (Y, range(n))), shape=(d,n)).toarray()\n",
        "    I=np.identity(theta.shape[0])\n",
        "    Y=Y.squeeze()\n",
        "    M=I[:,Y]\n",
        "    M1=M-P\n",
        "    M1=np.matmul(M1,X)\n",
        "    M1=M1/(-1*temp_parameter*n)\n",
        "    M2=lambda_factor*theta\n",
        "\n",
        "    theta_new =M1+M2\n",
        "    theta=theta-(alpha*theta_new)\n",
        "    return theta"
      ]
    },
    {
      "cell_type": "markdown",
      "metadata": {
        "id": "SyvInCWYgvma"
      },
      "source": [
        "## softmax_regression"
      ]
    },
    {
      "cell_type": "code",
      "execution_count": null,
      "metadata": {
        "id": "re9kQ2mlguAW"
      },
      "outputs": [],
      "source": [
        "def softmax_regression(X, Y, temp_parameter, alpha, lambda_factor, k, num_iterations):\n",
        "    \"\"\"\n",
        "    Runs batch gradient descent for a specified number of iterations on a dataset\n",
        "    with theta initialized to the all-zeros array. Here, theta is a k by d NumPy array\n",
        "    where row j represents the parameters of our model for label j for\n",
        "    j = 0, 1, ..., k-1\n",
        "\n",
        "    Args:\n",
        "        X - (n, d - 1) NumPy array (n data points, each with d-1 features)\n",
        "        Y - (n, ) NumPy array containing the labels (a number from 0-9) for each\n",
        "            data point\n",
        "        temp_parameter - the temperature parameter of softmax function (scalar)\n",
        "        alpha - the learning rate (scalar)\n",
        "        lambda_factor - the regularization constant (scalar)\n",
        "        k - the number of labels (scalar)\n",
        "        num_iterations - the number of iterations to run gradient descent (scalar)\n",
        "\n",
        "    Returns:\n",
        "        theta - (k, d) NumPy array that is the final value of parameters theta\n",
        "        cost_function_progression - a Python list containing the cost calculated at each step of gradient descent\n",
        "    \"\"\"\n",
        "    X = augment_feature_vector(X)\n",
        "    theta = np.zeros([k, X.shape[1]])\n",
        "    cost_function_progression = []\n",
        "    for i in range(num_iterations):\n",
        "        cost_function_progression.append(compute_cost_function(X, Y, theta, lambda_factor, temp_parameter))\n",
        "        theta = run_gradient_descent_iteration(X, Y, theta, alpha, lambda_factor, temp_parameter)\n",
        "    return theta, cost_function_progression"
      ]
    },
    {
      "cell_type": "markdown",
      "metadata": {
        "id": "NKbleZppjQLk"
      },
      "source": [
        "## plot_cost_function_over_time"
      ]
    },
    {
      "cell_type": "code",
      "execution_count": null,
      "metadata": {
        "id": "63BCpD92jPUF"
      },
      "outputs": [],
      "source": [
        "def plot_cost_function_over_time(cost_function_history):\n",
        "    plt.plot(range(len(cost_function_history)), cost_function_history)\n",
        "    plt.ylabel('Cost Function')\n",
        "    plt.xlabel('Iteration number')\n",
        "    plt.show()"
      ]
    },
    {
      "cell_type": "markdown",
      "metadata": {
        "id": "7ojpkwCSjhtr"
      },
      "source": [
        "## get_classification"
      ]
    },
    {
      "cell_type": "code",
      "execution_count": null,
      "metadata": {
        "id": "W4UQc7UyjgmF"
      },
      "outputs": [],
      "source": [
        "def get_classification(X, theta, temp_parameter):\n",
        "    \"\"\"\n",
        "    Makes predictions by classifying a given dataset\n",
        "\n",
        "    Args:\n",
        "        X - (n, d - 1) NumPy array (n data points, each with d - 1 features)\n",
        "        theta - (k, d) NumPy array where row j represents the parameters of our model for\n",
        "                label j\n",
        "        temp_parameter - the temperature parameter of softmax function (scalar)\n",
        "\n",
        "    Returns:\n",
        "        Y - (n, ) NumPy array, containing the predicted label (a number between 0-9) for\n",
        "            each data point\n",
        "    \"\"\"\n",
        "    X = augment_feature_vector(X)\n",
        "    probabilities = compute_probabilities(X, theta, temp_parameter)\n",
        "    return np.argmax(probabilities, axis = 0)"
      ]
    },
    {
      "cell_type": "markdown",
      "metadata": {
        "id": "-sWu9IsljZwl"
      },
      "source": [
        "## compute_test_error"
      ]
    },
    {
      "cell_type": "code",
      "execution_count": null,
      "metadata": {
        "id": "5MdJXLM6jY6a"
      },
      "outputs": [],
      "source": [
        "def compute_test_error(X, Y, theta, temp_parameter):\n",
        "    error_count = 0.\n",
        "    assigned_labels = get_classification(X, theta, temp_parameter)\n",
        "    return 1 - np.mean(assigned_labels == Y)"
      ]
    },
    {
      "cell_type": "markdown",
      "metadata": {
        "id": "v_K0NgV1jxYB"
      },
      "source": [
        "## write_pickle_data"
      ]
    },
    {
      "cell_type": "code",
      "execution_count": null,
      "metadata": {
        "id": "noNv-8UVjwpq"
      },
      "outputs": [],
      "source": [
        "def write_pickle_data(data, file_name):\n",
        "    f = gzip.open(file_name, 'wb')\n",
        "    pickle.dump(data, f)\n",
        "    f.close()"
      ]
    },
    {
      "cell_type": "markdown",
      "metadata": {
        "id": "aRlc8M1MkNNy"
      },
      "source": [
        "## update_y"
      ]
    },
    {
      "cell_type": "code",
      "execution_count": null,
      "metadata": {
        "id": "vPgiaGFTkMr7"
      },
      "outputs": [],
      "source": [
        "def update_y(train_y, test_y):\n",
        "    \"\"\"\n",
        "    Changes the old digit labels for the training and test set for the new (mod 3)\n",
        "    labels.\n",
        "\n",
        "    Args:\n",
        "        train_y - (n, ) NumPy array containing the labels (a number between 0-9)\n",
        "                 for each datapoint in the training set\n",
        "        test_y - (n, ) NumPy array containing the labels (a number between 0-9)\n",
        "                for each datapoint in the test set\n",
        "\n",
        "    Returns:\n",
        "        train_y_mod3 - (n, ) NumPy array containing the new labels (a number between 0-2)\n",
        "                     for each datapoint in the training set\n",
        "        test_y_mod3 - (n, ) NumPy array containing the new labels (a number between 0-2)\n",
        "                    for each datapoint in the test set\n",
        "    \"\"\"\n",
        "    #YOUR CODE HERE\n",
        "    train_y_mod3=train_y%3\n",
        "    test_y_mod3=test_y%3\n",
        "    return train_y_mod3,test_y_mod3"
      ]
    },
    {
      "cell_type": "markdown",
      "metadata": {
        "id": "KKIPndvGkTDu"
      },
      "source": [
        "## compute_test_error_mod3"
      ]
    },
    {
      "cell_type": "code",
      "execution_count": null,
      "metadata": {
        "id": "Om89KLWrkZAe"
      },
      "outputs": [],
      "source": [
        "def compute_test_error_mod3(X, Y, theta, temp_parameter):\n",
        "    \"\"\"\n",
        "    Returns the error of these new labels when the classifier predicts the digit. (mod 3)\n",
        "\n",
        "    Args:\n",
        "        X - (n, d - 1) NumPy array (n datapoints each with d - 1 features)\n",
        "        Y - (n, ) NumPy array containing the labels (a number from 0-2) for each\n",
        "            data point\n",
        "        theta - (k, d) NumPy array, where row j represents the parameters of our\n",
        "                model for label j\n",
        "        temp_parameter - the temperature parameter of softmax function (scalar)\n",
        "\n",
        "    Returns:\n",
        "        test_error - the error rate of the classifier (scalar)\n",
        "    \"\"\"\n",
        "    #YOUR CODE HERE\n",
        "    Y_all=get_classification(X, theta, temp_parameter)\n",
        "    Y_all=Y_all%3\n",
        "    compute_test_error_mod3 = 1 - np.mean(Y_all == Y)\n",
        "    return compute_test_error_mod3"
      ]
    },
    {
      "cell_type": "markdown",
      "metadata": {
        "id": "Q9EpCG6Rf8Sl"
      },
      "source": [
        "## run_softmax_on_MNIST"
      ]
    },
    {
      "cell_type": "code",
      "execution_count": null,
      "metadata": {
        "id": "SVVqj2oNgSiy"
      },
      "outputs": [],
      "source": [
        "def run_softmax_on_MNIST(temp_parameter=1.):\n",
        "    \"\"\"\n",
        "    Trains softmax, classifies test data, computes test error, and plots cost function\n",
        "\n",
        "    Runs softmax_regression on the MNIST training set and computes the test error using\n",
        "    the test set. It uses the following values for parameters:\n",
        "    alpha = 0.3\n",
        "    lambda = 1e-4\n",
        "    num_iterations = 150\n",
        "\n",
        "    Saves the final theta to ./theta.pkl.gz\n",
        "\n",
        "    Returns:\n",
        "        Final test error\n",
        "    \"\"\"\n",
        "    train_x, train_y, test_x, test_y = get_MNIST_data()\n",
        "    theta, cost_function_history = softmax_regression(train_x, train_y, temp_parameter, alpha= 0.3, lambda_factor = 1.0e-4, k = 10, num_iterations = 150)\n",
        "    plot_cost_function_over_time(cost_function_history)\n",
        "    test_error = compute_test_error(test_x, test_y, theta, temp_parameter)\n",
        "    # Save the model parameters theta obtained from calling softmax_regression to disk.\n",
        "    write_pickle_data(theta, \"./theta.pkl.gz\")\n",
        "\n",
        "    # \"Using the Current Model\"\n",
        "    train_y_mod3,test_y_mod3=update_y(train_y, test_y)\n",
        "    #    compute_test_error_mod3(X, Y, theta, temp_parameter):\n",
        "    test_error_mod3=compute_test_error_mod3(test_x, test_y_mod3, theta, temp_parameter)\n",
        "    #      and print the test_error_mod3\n",
        "    print('softmax_test_error_mod3=',test_error_mod3)\n",
        "    return test_error"
      ]
    },
    {
      "cell_type": "code",
      "execution_count": null,
      "metadata": {
        "id": "tmfra52JOUFu"
      },
      "outputs": [],
      "source": [
        "def run_softmax_on_MNIST_mod3(temp_parameter=1):\n",
        "    \"\"\"\n",
        "    Trains Softmax regression on digit (mod 3) classifications.\n",
        "\n",
        "    See run_softmax_on_MNIST for more info.\n",
        "    \"\"\"\n",
        "    #YOUR CODE HERE\n",
        "    train_x, train_y, test_x, test_y = get_MNIST_data()\n",
        "    train_y_mod3,test_y_mod3=update_y(train_y, test_y)\n",
        "    theta, cost_function_history = softmax_regression(train_x, train_y_mod3, temp_parameter, alpha= 0.3, lambda_factor = 1.0e-4, k = 10, num_iterations = 150)\n",
        "    plot_cost_function_over_time(cost_function_history)\n",
        "    test_error = compute_test_error(test_x, test_y_mod3, theta, temp_parameter)\n",
        "    test_error_mod3=compute_test_error_mod3(test_x, test_y_mod3, theta, temp_parameter)\n",
        "    # Save the model parameters theta obtained from calling softmax_regression to disk.\n",
        "    write_pickle_data(theta, \"./theta.pkl.gz\")\n",
        "    print('softmax_test_error_mod3=',test_error_mod3)\n",
        "    return test_error"
      ]
    },
    {
      "cell_type": "markdown",
      "metadata": {
        "id": "wLmcYMIVCsRz"
      },
      "source": [
        "# PCA"
      ]
    },
    {
      "cell_type": "markdown",
      "metadata": {
        "id": "dZr5Yj3OE2Rs"
      },
      "source": [
        "## center_data"
      ]
    },
    {
      "cell_type": "code",
      "execution_count": null,
      "metadata": {
        "id": "tLeyv9s6HscJ"
      },
      "outputs": [],
      "source": [
        "def cubic_features(X):\n",
        "    \"\"\"\n",
        "    Returns a new dataset with features given by the mapping\n",
        "    which corresponds to the cubic kernel.\n",
        "    \"\"\"\n",
        "    n, d = X.shape  # dataset size, input dimension\n",
        "    X_withones = np.ones((n, d + 1))\n",
        "    X_withones[:, :-1] = X\n",
        "    new_d = 0  # dimension of output\n",
        "    new_d = int((d + 1) * (d + 2) * (d + 3) / 6)\n",
        "\n",
        "    new_data = np.zeros((n, new_d))\n",
        "    col_index = 0\n",
        "    for x_i in range(n):\n",
        "        X_i = X[x_i]\n",
        "        X_i = X_i.reshape(1, X_i.size)\n",
        "\n",
        "        if d > 2:\n",
        "            comb_2 = np.matmul(np.transpose(X_i), X_i)\n",
        "\n",
        "            unique_2 = comb_2[np.triu_indices(d, 1)]\n",
        "            unique_2 = unique_2.reshape(unique_2.size, 1)\n",
        "            comb_3 = np.matmul(unique_2, X_i)\n",
        "            keep_m = np.zeros(comb_3.shape)\n",
        "            index = 0\n",
        "            for i in range(d - 1):\n",
        "                keep_m[index + np.arange(d - 1 - i), i] = 0\n",
        "\n",
        "                tri_keep = np.triu_indices(d - 1 - i, 1)\n",
        "\n",
        "                correct_0 = tri_keep[0] + index\n",
        "                correct_1 = tri_keep[1] + i + 1\n",
        "\n",
        "                keep_m[correct_0, correct_1] = 1\n",
        "                index += d - 1 - i\n",
        "\n",
        "            unique_3 = np.sqrt(6) * comb_3[np.nonzero(keep_m)]\n",
        "\n",
        "            new_data[x_i, np.arange(unique_3.size)] = unique_3\n",
        "            col_index = unique_3.size\n",
        "\n",
        "    for i in range(n):\n",
        "        newdata_colindex = col_index\n",
        "        for j in range(d + 1):\n",
        "            new_data[i, newdata_colindex] = X_withones[i, j]**3\n",
        "            newdata_colindex += 1\n",
        "            for k in range(j + 1, d + 1):\n",
        "                new_data[i, newdata_colindex] = X_withones[i, j]**2 * X_withones[i, k] * (3**(0.5))\n",
        "                newdata_colindex += 1\n",
        "\n",
        "                new_data[i, newdata_colindex] = X_withones[i, j] * X_withones[i, k]**2 * (3**(0.5))\n",
        "                newdata_colindex += 1\n",
        "\n",
        "                if k < d:\n",
        "                    new_data[i, newdata_colindex] = X_withones[i, j] * X_withones[i, k] * (6**(0.5))\n",
        "                    newdata_colindex += 1\n",
        "\n",
        "    return new_data"
      ]
    },
    {
      "cell_type": "code",
      "execution_count": null,
      "metadata": {
        "id": "kKg-thU4EwnL"
      },
      "outputs": [],
      "source": [
        "def center_data(X):\n",
        "    \"\"\"\n",
        "    Returns a centered version of the data, where each feature now has mean = 0\n",
        "\n",
        "    Args:\n",
        "        X - n x d NumPy array of n data points, each with d features\n",
        "\n",
        "    Returns:\n",
        "        n x d NumPy array X' where for each i = 1, ..., n and j = 1, ..., d:\n",
        "        X'[i][j] = X[i][j] - means[j]\n",
        "    \"\"\"\n",
        "    feature_means = X.mean(axis=0)\n",
        "    return(X - feature_means)"
      ]
    },
    {
      "cell_type": "markdown",
      "metadata": {
        "id": "54iU-78TE5Ie"
      },
      "source": [
        "## principal_components"
      ]
    },
    {
      "cell_type": "code",
      "execution_count": null,
      "metadata": {
        "id": "9Nc18eL4EvO5"
      },
      "outputs": [],
      "source": [
        "def principal_components(X):\n",
        "    \"\"\"\n",
        "    Returns the principal component vectors of the data, sorted in decreasing order\n",
        "    of eigenvalue magnitude. This function first caluclates the covariance matrix\n",
        "    and then finds its eigenvectors.\n",
        "\n",
        "    Args:\n",
        "        X - n x d NumPy array of n data points, each with d features\n",
        "\n",
        "    Returns:\n",
        "        d x d NumPy array whose columns are the principal component directions sorted\n",
        "        in descending order by the amount of variation each direction (these are\n",
        "        equivalent to the d eigenvectors of the covariance matrix sorted in descending\n",
        "        order of eigenvalues, so the first column corresponds to the eigenvector with\n",
        "        the largest eigenvalue\n",
        "    \"\"\"\n",
        "    centered_data = center_data(X)  # first center data\n",
        "    scatter_matrix = np.dot(centered_data.transpose(), centered_data)\n",
        "    eigen_values, eigen_vectors = np.linalg.eig(scatter_matrix)\n",
        "    # Re-order eigenvectors by eigenvalue magnitude:\n",
        "    idx = eigen_values.argsort()[::-1]\n",
        "    eigen_values = eigen_values[idx]\n",
        "    eigen_vectors = eigen_vectors[:, idx]\n",
        "    return eigen_vectors"
      ]
    },
    {
      "cell_type": "markdown",
      "metadata": {
        "id": "2TW9_4iHFQ3z"
      },
      "source": [
        "## project_onto_PC"
      ]
    },
    {
      "cell_type": "code",
      "execution_count": null,
      "metadata": {
        "id": "QaubFovFFPk_"
      },
      "outputs": [],
      "source": [
        "def project_onto_PC(X, pcs, n_components):\n",
        "    \"\"\"\n",
        "    Given principal component vectors pcs = principal_components(X)\n",
        "    this function returns a new data array in which each sample in X\n",
        "    has been projected onto the first n_components principcal components.\n",
        "    \"\"\"\n",
        "    # TODO: first center data using the centerData() function.\n",
        "    X_centred_version=center_data(X)\n",
        "    # TODO: Return the projection of the centered dataset\n",
        "    #       on the first n_components principal components.\n",
        "    #       This should be an array with dimensions: n x n_components.\n",
        "    # Hint: these principal components = first n_components columns\n",
        "    #       of the eigenvectors returned by principal_components().\n",
        "    #       Note that each eigenvector is already be a unit-vector,\n",
        "    #       so the projection may be done using matrix multiplication.\n",
        "    X_projection=np.matmul(X_centred_version,pcs[:,:n_components:])\n",
        "\n",
        "    return X_projection"
      ]
    },
    {
      "cell_type": "markdown",
      "metadata": {
        "id": "eHWXXDNnFFDg"
      },
      "source": [
        "## plot_PC"
      ]
    },
    {
      "cell_type": "code",
      "execution_count": null,
      "metadata": {
        "id": "a_TNbHAeFFzt"
      },
      "outputs": [],
      "source": [
        "def plot_PC(X, pcs, labels):\n",
        "    \"\"\"\n",
        "    Given the principal component vectors as the columns of matrix pcs,\n",
        "    this function projects each sample in X onto the first two principal components\n",
        "    and produces a scatterplot where points are marked with the digit depicted in\n",
        "    the corresponding image.\n",
        "    labels = a numpy array containing the digits corresponding to each image in X.\n",
        "    \"\"\"\n",
        "    pc_data = project_onto_PC(X, pcs, n_components=2)\n",
        "    text_labels = [str(z) for z in labels.tolist()]\n",
        "    fig, ax = plt.subplots()\n",
        "    ax.scatter(pc_data[:, 0], pc_data[:, 1], alpha=0, marker=\".\")\n",
        "    for i, txt in enumerate(text_labels):\n",
        "        ax.annotate(txt, (pc_data[i, 0], pc_data[i, 1]))\n",
        "    ax.set_xlabel('PC 1')\n",
        "    ax.set_ylabel('PC 2')\n",
        "    plt.show()"
      ]
    },
    {
      "cell_type": "markdown",
      "metadata": {
        "id": "4YMT3HRHFoGP"
      },
      "source": [
        "## reconstruct_PC"
      ]
    },
    {
      "cell_type": "code",
      "execution_count": null,
      "metadata": {
        "id": "IIz5r_slFmuP"
      },
      "outputs": [],
      "source": [
        "def reconstruct_PC(x_pca, pcs, n_components, X):\n",
        "    \"\"\"\n",
        "    Given the principal component vectors as the columns of matrix pcs,\n",
        "    this function reconstructs a single image from its principal component\n",
        "    representation, x_pca.\n",
        "    X = the original data to which PCA was applied to get pcs.\n",
        "    \"\"\"\n",
        "    feature_means = X - center_data(X)\n",
        "    feature_means = feature_means[0, :]\n",
        "    x_reconstructed = np.dot(x_pca, pcs[:, range(n_components)].T) + feature_means\n",
        "    return x_reconstructed"
      ]
    },
    {
      "cell_type": "markdown",
      "metadata": {
        "id": "jB90cxzNJcDr"
      },
      "source": [
        "# main function"
      ]
    },
    {
      "cell_type": "markdown",
      "metadata": {
        "id": "auSgKuvhGrGV"
      },
      "source": [
        "## load data"
      ]
    },
    {
      "cell_type": "code",
      "execution_count": null,
      "metadata": {
        "colab": {
          "base_uri": "https://localhost:8080/"
        },
        "id": "4zL1KBhuQeno",
        "outputId": "ab63bc0c-56de-4758-a14f-f25290c99f4a"
      },
      "outputs": [
        {
          "data": {
            "image/png": "[encoded data removed]",
            "text/plain": [
              "<Figure size 640x480 with 30 Axes>"
            ]
          },
          "metadata": {},
          "output_type": "display_data"
        }
      ],
      "source": [
        "# Load MNIST data: get_MNIST_data()\n",
        "train_x, train_y, test_x, test_y = get_MNIST_data()\n",
        "# Plot the first 20 images of the training set.\n",
        "plot_images(train_x[0:30, :])"
      ]
    },
    {
      "cell_type": "markdown",
      "metadata": {
        "id": "dvUKNk9eGudc"
      },
      "source": [
        "## run_linear_regression_on_MNIST"
      ]
    },
    {
      "cell_type": "code",
      "execution_count": null,
      "metadata": {
        "colab": {
          "base_uri": "https://localhost:8080/"
        },
        "id": "RWxS9SFa2Mkx",
        "outputId": "36da81ff-6c05-467d-e8b7-34d3cd82208d"
      },
      "outputs": [
        {
          "name": "stdout",
          "output_type": "stream",
          "text": [
            "Linear regression:- lambda: 1.0000\t test_error: 0.7697\n",
            "Linear regression:- lambda: 0.1000\t test_error: 0.7698\n",
            "Linear regression:- lambda: 0.0100\t test_error: 0.7702\n",
            "Linear regression:- lambda: 0.0010\t test_error: 0.7702\n"
          ]
        }
      ],
      "source": [
        "lambda_factor=[1,0.1,0.01,0.001]\n",
        "# we need to first define  run_linear_regression_on_MNIST  - function\n",
        "for lmd in lambda_factor:\n",
        "    test_error = run_linear_regression_on_MNIST(lambda_factor=lmd)\n",
        "    print('Linear regression:- lambda: {:.4f}\\t test_error: {:.4f}'.format(lmd,test_error))\n",
        "\n"
      ]
    },
    {
      "cell_type": "markdown",
      "metadata": {
        "id": "HBR5TTplGylh"
      },
      "source": [
        "## SVM"
      ]
    },
    {
      "cell_type": "code",
      "execution_count": null,
      "metadata": {
        "colab": {
          "base_uri": "https://localhost:8080/"
        },
        "id": "sSdTNuXJFLuO",
        "outputId": "2edbcb25-45c9-407a-855f-acf76a307495"
      },
      "outputs": [
        {
          "name": "stdout",
          "output_type": "stream",
          "text": [
            "SVM one vs. rest test_error:0.0075\n"
          ]
        }
      ],
      "source": [
        "print('SVM one vs. rest test_error:{:.4f}'.format(run_svm_one_vs_rest_on_MNIST()))"
      ]
    },
    {
      "cell_type": "code",
      "execution_count": null,
      "metadata": {
        "colab": {
          "base_uri": "https://localhost:8080/"
        },
        "id": "iTSigC8eNnc2",
        "outputId": "b4c28484-8347-448d-9bf9-90ddb15246a4"
      },
      "outputs": [
        {
          "name": "stdout",
          "output_type": "stream",
          "text": [
            "Multiclass SVM test_error:0.0818\n"
          ]
        }
      ],
      "source": [
        "print('Multiclass SVM test_error:{:.4f}'.format(run_multiclass_svm_on_MNIST()))"
      ]
    },
    {
      "cell_type": "markdown",
      "metadata": {
        "id": "xEaqCErAG-zz"
      },
      "source": [
        "## Soft max"
      ]
    },
    {
      "cell_type": "code",
      "execution_count": null,
      "metadata": {
        "colab": {
          "background_save": true,
          "base_uri": "https://localhost:8080/",
          "height": 952
        },
        "id": "7o1AJRPIJn-4",
        "outputId": "d00dd801-d901-48ac-c6ad-43cbcdaf91c7"
      },
      "outputs": [
        {
          "data": {
            "image/png": "[encoded data removed]",
            "text/plain": [
              "<Figure size 640x480 with 1 Axes>"
            ]
          },
          "metadata": {},
          "output_type": "display_data"
        },
        {
          "name": "stdout",
          "output_type": "stream",
          "text": [
            "softmax_test_error_mod3= 0.09770000000000001\n",
            "softmax test_error= 0.126\n"
          ]
        },
        {
          "data": {
            "image/png": "[encoded data removed]",
            "text/plain": [
              "<Figure size 640x480 with 1 Axes>"
            ]
          },
          "metadata": {},
          "output_type": "display_data"
        },
        {
          "name": "stdout",
          "output_type": "stream",
          "text": [
            "softmax_test_error_mod3= 0.06420000000000003\n",
            "softmax test_error= 0.08389999999999997\n"
          ]
        },
        {
          "data": {
            "image/png": "[encoded data removed]",
            "text/plain": [
              "<Figure size 640x480 with 1 Axes>"
            ]
          },
          "metadata": {},
          "output_type": "display_data"
        },
        {
          "name": "stdout",
          "output_type": "stream",
          "text": [
            "softmax_test_error_mod3= 0.07679999999999998\n",
            "softmax test_error= 0.10050000000000003\n"
          ]
        }
      ],
      "source": [
        "print('softmax test_error=', run_softmax_on_MNIST(temp_parameter=2))\n",
        "print('softmax test_error=', run_softmax_on_MNIST(temp_parameter=0.5))\n",
        "print('softmax test_error=', run_softmax_on_MNIST(temp_parameter=1))"
      ]
    },
    {
      "cell_type": "code",
      "execution_count": null,
      "metadata": {
        "colab": {
          "background_save": true
        },
        "id": "YO8qI6Z4SlBQ",
        "outputId": "2262ff9e-edb7-4e45-c604-b732bc6f649a"
      },
      "outputs": [
        {
          "data": {
            "image/png": "[encoded data removed]",
            "text/plain": [
              "<Figure size 640x480 with 1 Axes>"
            ]
          },
          "metadata": {},
          "output_type": "display_data"
        },
        {
          "name": "stdout",
          "output_type": "stream",
          "text": [
            "softmax_test_error_mod3= 0.1884\n",
            "softmax test_error_mod3= 0.1884\n"
          ]
        }
      ],
      "source": [
        "print('softmax test_error_mod3=', run_softmax_on_MNIST_mod3(temp_parameter=1))"
      ]
    },
    {
      "cell_type": "markdown",
      "metadata": {
        "id": "8xvDI2kVHCXJ"
      },
      "source": [
        "## PCA\n",
        "\n",
        "Dimensionality reduction via PCA\n",
        "\n",
        "Classification Using Manually Crafted Features"
      ]
    },
    {
      "cell_type": "code",
      "execution_count": 43,
      "metadata": {
        "colab": {
          "base_uri": "https://localhost:8080/",
          "height": 485
        },
        "id": "vUMoEaavHNAb",
        "outputId": "f9f689e7-1276-4b43-8896-ebf1573ba3bf"
      },
      "outputs": [
        {
          "data": {
            "image/png": "[encoded data removed]",
            "text/plain": [
              "<Figure size 640x480 with 1 Axes>"
            ]
          },
          "metadata": {},
          "output_type": "display_data"
        },
        {
          "name": "stdout",
          "output_type": "stream",
          "text": [
            ".......test error->train_pca10-> 0.10450000000000004\n",
            "....... 0.20299999999999996\n"
          ]
        }
      ],
      "source": [
        "n_components = 10#18\n",
        "pcs = principal_components(train_x)\n",
        "#.... comment this when not using cubic feture, but using 18 dimencion pca\n",
        "train_pca10 = cubic_features(project_onto_PC(train_x, pcs, n_components))\n",
        "#.... comment this when not using cubic feture, but using 18 dimencion pca\n",
        "test_pca10 = cubic_features(project_onto_PC(test_x, pcs, n_components))\n",
        "\n",
        "# train_pca = project_onto_PC(train_x, pcs, n_components) #..... uncomment this when using 18 dim\n",
        "# test_pca = project_onto_PC(test_x, pcs, n_components)   #..... uncomment this when using 18 dim\n",
        "\n",
        "'''\n",
        "# train_pca (and test_pca) is a representation of our training (and test) data\n",
        "# after projecting each example onto the first 18 principal components.\n",
        "'''\n",
        "theta2, cost_function_history1 = softmax_regression(train_pca10, train_y, temp_parameter=1, alpha= 0.3, lambda_factor = 1.0e-4, k = 10, num_iterations = 150)\n",
        "plot_cost_function_over_time(cost_function_history1)\n",
        "test_error2 = compute_test_error(test_pca10, test_y, theta2, temp_parameter=1)\n",
        "print('.......test error->train_pca10->',test_error2)\n",
        "\n",
        "'''\n",
        " TODO: Train your softmax regression model using (train_pca, train_y)\n",
        "       and evaluate its accuracy on (test_pca, test_y).\n",
        "'''\n",
        "# theta1, cost_function_history = softmax_regression(test_pca, test_y, temp_parameter=1, alpha= 0.3, lambda_factor = 1.0e-4, k = 10, num_iterations = 150)\n",
        "# test_error1 = compute_test_error(test_pca, test_y, theta1, temp_parameter=1)\n",
        "# print('.......',test_error1)\n",
        "\n"
      ]
    },
    {
      "cell_type": "code",
      "execution_count": 44,
      "metadata": {
        "colab": {
          "base_uri": "https://localhost:8080/",
          "height": 449
        },
        "id": "BzQ7i22CKOHu",
        "outputId": "6ea5a1f5-0b57-4ef7-b323-d9b75e0e3321"
      },
      "outputs": [
        {
          "data": {
            "image/png": "[encoded data removed]",
            "text/plain": [
              "<Figure size 640x480 with 1 Axes>"
            ]
          },
          "metadata": {},
          "output_type": "display_data"
        }
      ],
      "source": [
        "'''\n",
        "# TODO: Use the plot_PC function in features.py to produce scatterplot\n",
        "# of the first 100 MNIST images, as represented in the space spanned by the\n",
        "# first 2 principal components found above.\n",
        "'''\n",
        "plot_PC(train_x[range(100),], pcs, train_y[range(100)])"
      ]
    },
    {
      "cell_type": "code",
      "execution_count": 41,
      "metadata": {
        "colab": {
          "base_uri": "https://localhost:8080/",
          "height": 1000
        },
        "id": "pGCzLCP1KZsn",
        "outputId": "755bd012-2de7-43c6-8c9c-01b1d96075e1"
      },
      "outputs": [
        {
          "data": {
            "image/png": "[encoded data removed]",
            "text/plain": [
              "<Figure size 640x480 with 1 Axes>"
            ]
          },
          "metadata": {},
          "output_type": "display_data"
        },
        {
          "data": {
            "image/png": "[encoded data removed]",
            "text/plain": [
              "<Figure size 640x480 with 1 Axes>"
            ]
          },
          "metadata": {},
          "output_type": "display_data"
        },
        {
          "data": {
            "image/png": "[encoded data removed]",
            "text/plain": [
              "<Figure size 640x480 with 1 Axes>"
            ]
          },
          "metadata": {},
          "output_type": "display_data"
        },
        {
          "data": {
            "image/png": "[encoded data removed]",
            "text/plain": [
              "<Figure size 640x480 with 1 Axes>"
            ]
          },
          "metadata": {},
          "output_type": "display_data"
        }
      ],
      "source": [
        "'''\n",
        "# TODO: Use the reconstruct_PC function in features.py to show\n",
        "# the first and second MNIST images as reconstructed solely from\n",
        "# their 18-dimensional principal component representation.\n",
        "# Compare the reconstructed images with the originals.\n",
        "'''\n",
        "\n",
        "firstimage_reconstructed = reconstruct_PC(train_pca[0, ], pcs, n_components, train_x)\n",
        "plot_images(firstimage_reconstructed)\n",
        "plot_images(train_x[0,])\n",
        "\n",
        "secondimage_reconstructed = reconstruct_PC(train_pca[1, ], pcs, n_components, train_x)\n",
        "plot_images(secondimage_reconstructed)\n",
        "plot_images(train_x[1,])"
      ]
    },
    {
      "cell_type": "code",
      "execution_count": null,
      "metadata": {
        "id": "cCVv2eeEKhcT"
      },
      "outputs": [],
      "source": [
        "## Cubic Kernel ##\n",
        "# TODO: Find the 10-dimensional PCA representation of the training and test set\n",
        "\n",
        "\n",
        "# TODO: First fill out cubicFeatures() function in features.py as the below code requires it.\n",
        "\n",
        "train_cube = cubic_features(train_pca10)\n",
        "test_cube = cubic_features(test_pca10)\n",
        "# train_cube (and test_cube) is a representation of our training (and test) data\n",
        "# after applying the cubic kernel feature mapping to the 10-dimensional PCA representations.\n",
        "\n",
        "\n",
        "# TODO: Train your softmax regression model using (train_cube, train_y)\n",
        "#       and evaluate its accuracy on (test_cube, test_y)."
      ]
    }
  ],
  "metadata": {
    "colab": {
      "authorship_tag": "ABX9TyPGhoj0mFmL9+pff5eV2wqY",
      "collapsed_sections": [
        "wVOeSZ946AIg"
      ],
      "include_colab_link": true,
      "provenance": [],
      "toc_visible": true
    },
    "kernelspec": {
      "display_name": "Python (cvlab)",
      "language": "python",
      "name": "cvlab"
    },
    "language_info": {
      "name": "python",
      "version": "3.10.18"
    }
  },
  "nbformat": 4,
  "nbformat_minor": 0
}
